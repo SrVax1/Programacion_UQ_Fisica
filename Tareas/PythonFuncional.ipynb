{
 "cells": [
  {
   "attachments": {},
   "cell_type": "markdown",
   "metadata": {},
   "source": [
    "#### Python Funcional"
   ]
  },
  {
   "attachments": {},
   "cell_type": "markdown",
   "metadata": {},
   "source": [
    "1. Escriba un programa en Python para triplicar todos los números en una lista dada de enteros.\n"
   ]
  },
  {
   "cell_type": "code",
   "execution_count": 11,
   "metadata": {},
   "outputs": [
    {
     "name": "stdout",
     "output_type": "stream",
     "text": [
      "Lista original: [2, 4, 6, 8, 10]\n",
      "Lista triplicada: [6, 12, 18, 24, 30]\n"
     ]
    }
   ],
   "source": [
    "lista_enteros = [2, 4, 6, 8, 10]\n",
    "\n",
    "lista_triplicada = list(map(lambda x: x * 3, lista_enteros))\n",
    "\n",
    "print(\"Lista original:\", lista_enteros)\n",
    "print(\"Lista triplicada:\", lista_triplicada)\n"
   ]
  },
  {
   "attachments": {},
   "cell_type": "markdown",
   "metadata": {},
   "source": [
    "2. Escriba un programa de Python para agregar tres listas dadas."
   ]
  },
  {
   "cell_type": "code",
   "execution_count": 12,
   "metadata": {},
   "outputs": [
    {
     "name": "stdout",
     "output_type": "stream",
     "text": [
      "[12, 15, 18]\n"
     ]
    }
   ],
   "source": [
    "lista1 = [1, 2, 3]\n",
    "lista2 = [4, 5, 6]\n",
    "lista3 = [7, 8, 9]\n",
    "\n",
    "resultado = list(map(lambda x, y, z: x + y + z, lista1, lista2, lista3))\n",
    "\n",
    "print(resultado)"
   ]
  },
  {
   "attachments": {},
   "cell_type": "markdown",
   "metadata": {},
   "source": [
    "3. Escriba un programa de Python para listar la lista de cadenas dadas individualmente."
   ]
  },
  {
   "cell_type": "code",
   "execution_count": 15,
   "metadata": {},
   "outputs": [
    {
     "name": "stdout",
     "output_type": "stream",
     "text": [
      "manzana\n",
      "naranja\n",
      "plátano\n"
     ]
    },
    {
     "data": {
      "text/plain": [
       "[None, None, None]"
      ]
     },
     "execution_count": 15,
     "metadata": {},
     "output_type": "execute_result"
    }
   ],
   "source": [
    "lista = ['manzana', 'naranja', 'plátano']\n",
    "\n",
    "list(map(lambda x: print(x), lista))"
   ]
  },
  {
   "attachments": {},
   "cell_type": "markdown",
   "metadata": {},
   "source": [
    "4. Escriba un programa en Python para crear una lista que contenga la potencia de dicho número en bases elevadas al número correspondiente en el índice."
   ]
  },
  {
   "cell_type": "code",
   "execution_count": 16,
   "metadata": {},
   "outputs": [
    {
     "name": "stdout",
     "output_type": "stream",
     "text": [
      "[1, 2, 4, 8, 16]\n"
     ]
    }
   ],
   "source": [
    "base = 2\n",
    "exponentes = [0, 1, 2, 3, 4]\n",
    "\n",
    "resultado = list(map(lambda x: base ** x, exponentes))\n",
    "\n",
    "print(resultado)"
   ]
  },
  {
   "attachments": {},
   "cell_type": "markdown",
   "metadata": {},
   "source": [
    "5. Escriba un programa Python para cuadrar los elementos de una lista."
   ]
  },
  {
   "cell_type": "code",
   "execution_count": 10,
   "metadata": {},
   "outputs": [
    {
     "name": "stdout",
     "output_type": "stream",
     "text": [
      "[9, 25, 36, 64, 100]\n"
     ]
    }
   ],
   "source": [
    "numeros = [3, 5, 6, 8, 10]\n",
    "cuadrados = list(map(lambda x: x ** 2, numeros))\n",
    "print(cuadrados)"
   ]
  },
  {
   "attachments": {},
   "cell_type": "markdown",
   "metadata": {},
   "source": [
    "6. Escriba un programa en Python para convertir todos los caracteres en mayúsculas y minúsculas y eliminar las letras duplicadas de una secuencia determinada."
   ]
  },
  {
   "cell_type": "code",
   "execution_count": 21,
   "metadata": {},
   "outputs": [
    {
     "name": "stdout",
     "output_type": "stream",
     "text": [
      "Secuencia original: Reducir una secuencia de caracteres\n",
      "Secuencia en mayúsculas: REDUCIR UNA SECUENCIA DE CARACTERES\n",
      "Secuencia en minúsculas: reducir una secuencia de caracteres\n",
      "Secuencia sin letras duplicadas: dRtis cuaren\n"
     ]
    }
   ],
   "source": [
    "secuencia = \"Reducir una secuencia de caracteres\"\n",
    "mayusculas = secuencia.upper()\n",
    "minusculas = secuencia.lower()\n",
    "sin_duplicados = \"\".join(set(secuencia))\n",
    "\n",
    "print(\"Secuencia original:\", secuencia)\n",
    "print(\"Secuencia en mayúsculas:\", mayusculas)\n",
    "print(\"Secuencia en minúsculas:\", minusculas)\n",
    "print(\"Secuencia sin letras duplicadas:\", sin_duplicados)"
   ]
  },
  {
   "attachments": {},
   "cell_type": "markdown",
   "metadata": {},
   "source": [
    "7. Escriba un programa Python para agregar dos listas dadas y encontrar la diferencia entre ellas."
   ]
  },
  {
   "cell_type": "code",
   "execution_count": 9,
   "metadata": {},
   "outputs": [
    {
     "name": "stdout",
     "output_type": "stream",
     "text": [
      "La suma es [7, 9, 11, 13, 15]\n",
      "La resta es [-5, -5, -5, -5, -5]\n",
      "La diferencia es -25\n"
     ]
    }
   ],
   "source": [
    "from functools import reduce\n",
    "lista1 = [1, 2, 3, 4, 5]\n",
    "lista2 = [6, 7, 8, 9, 10]\n",
    "\n",
    "suma = list(map(lambda x, y: x + y, lista1, lista2))\n",
    "resta = list(map(lambda x, y: x - y, lista1, lista2))\n",
    "diferencia = reduce(lambda x, y: x + y, resta)\n",
    "\n",
    "print(f'La suma es {suma}')\n",
    "print(f'La resta es {resta}')     \n",
    "print(f'La diferencia es {diferencia}')"
   ]
  },
  {
   "attachments": {},
   "cell_type": "markdown",
   "metadata": {},
   "source": [
    "8. Escriba un programa en Python para convertir una lista dada de enteros y una tupla de enteros en una lista de cadenas."
   ]
  },
  {
   "cell_type": "code",
   "execution_count": 22,
   "metadata": {},
   "outputs": [
    {
     "name": "stdout",
     "output_type": "stream",
     "text": [
      "['1', '2', '3', '4', '5', '6']\n"
     ]
    }
   ],
   "source": [
    "lista = [1, 2, 3]\n",
    "tupla = (4, 5, 6)\n",
    "\n",
    "resultado = list(map(lambda x: str(x), lista + list(tupla)))\n",
    "\n",
    "print(resultado)"
   ]
  },
  {
   "attachments": {},
   "cell_type": "markdown",
   "metadata": {},
   "source": [
    "9. Escriba un programa de Python para crear una nueva lista que tome elementos específicos de una tupla y convierta un valor de cadena en un número entero"
   ]
  },
  {
   "cell_type": "code",
   "execution_count": 23,
   "metadata": {},
   "outputs": [
    {
     "name": "stdout",
     "output_type": "stream",
     "text": [
      "[12, 56, 78]\n"
     ]
    }
   ],
   "source": [
    "tupla = ('12', '34', '56', '78')\n",
    "indices = (0, 2, 3) \n",
    "\n",
    "numeros_enteros = list(map(lambda i: int(tupla[i]), indices))\n",
    "\n",
    "print(numeros_enteros)"
   ]
  },
  {
   "attachments": {},
   "cell_type": "markdown",
   "metadata": {},
   "source": [
    "10. Escriba un programa en Python para calcular el cuadrado de los primeros N números de Fibonacci y genere una lista de los números."
   ]
  },
  {
   "cell_type": "code",
   "execution_count": null,
   "metadata": {},
   "outputs": [],
   "source": [
    "from functools import reduce\n",
    "\n",
    "def fibonacci(n):\n",
    "    fib = [0, 1]\n",
    "    for i in range(2, n+1):\n",
    "        fib.append(fib[i-1] + fib[i-2])\n",
    "    return fib\n",
    "\n",
    "n = int(input(\"Ingrese el valor de N: \"))\n",
    "fibonacci_secuencia = fibonacci(n)\n",
    "\n",
    "fibonacci__cuadrados = list(map(lambda x: x**2, fibonacci_secuencia))\n",
    "\n",
    "fibonacci__cuadrados_lista = reduce(lambda x, y: x + [y], fibonacci__cuadrados, [])\n",
    "\n",
    "print(f\"Los primeros {n} números de Fibonacci elevados al cuadrado son: {fibonacci__cuadrados_lista}\")\n"
   ]
  },
  {
   "attachments": {},
   "cell_type": "markdown",
   "metadata": {},
   "source": [
    "11. Escriba un programa en Python para calcular la suma de los elementos de una matriz de enteros."
   ]
  },
  {
   "cell_type": "code",
   "execution_count": 1,
   "metadata": {},
   "outputs": [
    {
     "name": "stdout",
     "output_type": "stream",
     "text": [
      "45\n"
     ]
    }
   ],
   "source": [
    "from functools import reduce\n",
    "\n",
    "matriz = [[1, 2, 3], [4, 5, 6], [7, 8, 9]]\n",
    "\n",
    "suma = reduce(lambda x, y: x + y, [reduce(lambda x, y: x + y, fila) for fila in matriz])\n",
    "\n",
    "print(suma)"
   ]
  },
  {
   "attachments": {},
   "cell_type": "markdown",
   "metadata": {},
   "source": [
    "12. Escriba un programa en Python para encontrar la razón de números positivos, números negativos y ceros en una matriz de enteros.\n"
   ]
  },
  {
   "cell_type": "code",
   "execution_count": 2,
   "metadata": {},
   "outputs": [
    {
     "name": "stdout",
     "output_type": "stream",
     "text": [
      "Razón de números positivos: 0.45\n",
      "Razón de números negativos: 0.36\n",
      "Razón de ceros: 0.18\n"
     ]
    }
   ],
   "source": [
    "numeros = [1, -2, 0, 3, -4, 5, 0, -6, 7, 8, -9]\n",
    "\n",
    "positivos = list(filter(lambda x: x > 0, numeros))\n",
    "negativos = list(filter(lambda x: x < 0, numeros))\n",
    "ceros = list(filter(lambda x: x == 0, numeros))\n",
    "\n",
    "razon_positivos = len(positivos) / len(numeros)\n",
    "razon_negativos = len(negativos) / len(numeros)\n",
    "razon_ceros = len(ceros) / len(numeros)\n",
    "\n",
    "print(f\"Razón de números positivos: {razon_positivos:.2f}\")\n",
    "print(f\"Razón de números negativos: {razon_negativos:.2f}\")\n",
    "print(f\"Razón de ceros: {razon_ceros:.2f}\")"
   ]
  },
  {
   "attachments": {},
   "cell_type": "markdown",
   "metadata": {},
   "source": [
    "13. Escriba un programa Python para intercalar dos listas en otra lista al azar."
   ]
  },
  {
   "cell_type": "code",
   "execution_count": 3,
   "metadata": {},
   "outputs": [
    {
     "name": "stdout",
     "output_type": "stream",
     "text": [
      "[1, 5, 10, 3, 2, 9, 8, 7, 6, 4]\n"
     ]
    }
   ],
   "source": [
    "import random\n",
    "import itertools\n",
    "\n",
    "lista1 = [1, 3, 5, 7, 9]\n",
    "lista2 = [2, 4, 6, 8, 10]\n",
    "\n",
    "intercalados = list(itertools.chain(*zip(lista1, lista2)))\n",
    "\n",
    "random.shuffle(intercalados)\n",
    "\n",
    "print(intercalados)"
   ]
  },
  {
   "attachments": {},
   "cell_type": "markdown",
   "metadata": {},
   "source": [
    "14. Escriba un programa Python para dividir un diccionario dado de listas en una lista de diccionarios utilizando la función de mapa.\n"
   ]
  },
  {
   "cell_type": "code",
   "execution_count": 4,
   "metadata": {},
   "outputs": [
    {
     "name": "stdout",
     "output_type": "stream",
     "text": [
      "[{'frutas': 'manzana', 'verduras': 'zanahoria', 'bebidas': 'agua'}, {'frutas': 'pera', 'verduras': 'lechuga', 'bebidas': 'refresco'}, {'frutas': 'plátano', 'verduras': 'tomate', 'bebidas': 'cerveza'}]\n"
     ]
    }
   ],
   "source": [
    "diccionario = {\n",
    "    'frutas': ['manzana', 'pera', 'plátano'],\n",
    "    'verduras': ['zanahoria', 'lechuga', 'tomate'],\n",
    "    'bebidas': ['agua', 'refresco', 'cerveza']\n",
    "}\n",
    "\n",
    "lista_diccionarios = list(map(lambda x: {k: v[x] for k, v in diccionario.items()}, range(len(next(iter(diccionario.values()))))))\n",
    "\n",
    "print(lista_diccionarios)"
   ]
  },
  {
   "attachments": {},
   "cell_type": "markdown",
   "metadata": {},
   "source": [
    "15. Escriba un programa en Python para convertir una lista dada de cadenas en una lista de listas usando la función map."
   ]
  },
  {
   "cell_type": "code",
   "execution_count": 5,
   "metadata": {},
   "outputs": [
    {
     "name": "stdout",
     "output_type": "stream",
     "text": [
      "['hola', 'mundo', 'programacion', 'funcional']\n"
     ]
    }
   ],
   "source": [
    "strings = ['hola', 'mundo', 'programacion', 'funcional']\n",
    "listas = list(map(lambda s: list(s), strings))\n",
    "listas_de_una_cadena = list(map(lambda l: ''.join(l), listas))\n",
    "print(listas_de_una_cadena)"
   ]
  },
  {
   "attachments": {},
   "cell_type": "markdown",
   "metadata": {},
   "source": [
    "16. Escriba un programa en Python para convertir una lista dada de tuplas en una lista de cadenas usando la función map."
   ]
  },
  {
   "cell_type": "code",
   "execution_count": 6,
   "metadata": {},
   "outputs": [
    {
     "name": "stdout",
     "output_type": "stream",
     "text": [
      "['123', '456', '789']\n"
     ]
    }
   ],
   "source": [
    "lista_tuplas = [(1, 2, 3), (4, 5, 6), (7, 8, 9)]\n",
    "lista_cadenas = list(map(lambda tupla: ''.join(map(str, tupla)), lista_tuplas))\n",
    "print(lista_cadenas)\n"
   ]
  }
 ],
 "metadata": {
  "kernelspec": {
   "display_name": "Python 3",
   "language": "python",
   "name": "python3"
  },
  "language_info": {
   "codemirror_mode": {
    "name": "ipython",
    "version": 3
   },
   "file_extension": ".py",
   "mimetype": "text/x-python",
   "name": "python",
   "nbconvert_exporter": "python",
   "pygments_lexer": "ipython3",
   "version": "3.11.3"
  },
  "orig_nbformat": 4
 },
 "nbformat": 4,
 "nbformat_minor": 2
}
